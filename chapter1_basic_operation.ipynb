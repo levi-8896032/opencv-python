{
 "cells": [
  {
   "cell_type": "raw",
   "metadata": {},
   "source": [
    "**************************************\n",
    "**********  火力教育代码示例  *********\n",
    "********      数字图像处理    *********\n",
    "**********  第一章：基础操作 **********\n",
    "**************************************"
   ]
  },
  {
   "cell_type": "markdown",
   "metadata": {},
   "source": [
    "## 0. 教程大纲"
   ]
  },
  {
   "cell_type": "markdown",
   "metadata": {},
   "source": [
    "### 0.1 Jupyter操作\n",
    "- Cell\n",
    "- 编辑模式、命令模式\n",
    "- 增(A,B)、删(DD)Cell\n",
    "- 运行Cell\n",
    "- 代码、Markdown、raw模式\n",
    "- 输出显示\n",
    "\n",
    "### 0.2 三个重要属性\n",
    "```python\n",
    "A.dtype, A.shape, A.ndim\n",
    "```\n",
    "\n",
    "### 0.3 创建矩阵\n",
    "```python\n",
    "np.array([[1]])\n",
    "np.uint8([1])\n",
    "np.arange(2,10,2)\n",
    "np.linspace(0, 2*pi, 100)\n",
    "A = np.zeros((4,3), dtype=np.uint8)\n",
    "B = np.ones((2,2), dtype=np.float32)\n",
    "I = np.eye(4)\n",
    "I2 = np.identity(6)\n",
    "C = np.random.randint(0, 10, (4,4))\n",
    "```\n",
    "\n",
    "\n",
    "### 0.4 矩阵转换\n",
    "```python\n",
    "A.reshape()\n",
    "A.flatten(), A.ravel()\n",
    "A.T\n",
    "A.transpose()\n",
    "np.hstack([A, B])\n",
    "```\n",
    "\n",
    "### 0.5 最大值、最小值、平均值\n",
    "```python\n",
    "A.max()\n",
    "A.min()\n",
    "A.mean()\n",
    "np.max()\n",
    "np.min()\n",
    "np.mean()\n",
    "```\n",
    "\n",
    "### 0.6 数学运算\n",
    "```python\n",
    "np.power(A, 2)\n",
    "np.sqrt()\n",
    "np.log(), np.log2(), np.log10()\n",
    "A.dot(x)\n",
    "```\n",
    "\n",
    "\n",
    "### 0.7 元素获取\n",
    "\n",
    "### 0.8 图片读写及显示\n",
    "```python\n",
    "cv.imread(path)\n",
    "cv.imwrite(path, img)\n",
    "\n",
    "# cv.namedWindow('image')\n",
    "cv.imshow(\"roi\", img)\n",
    "cv.waitKey(0)\n",
    "cv.destroyAllWindows()\n",
    "\n",
    "plt.imshow(img)\n",
    "plt.show()\n",
    "```\n",
    "\n",
    "### 0.9 简单绘图\n",
    "```python\n",
    "plt.plot(x,y)\n",
    "plt.hist(array)\n",
    "```"
   ]
  },
  {
   "cell_type": "markdown",
   "metadata": {},
   "source": [
    "## 1. 基础操作"
   ]
  },
  {
   "cell_type": "markdown",
   "metadata": {},
   "source": [
    "## 2. 矩阵创建"
   ]
  },
  {
   "cell_type": "code",
   "execution_count": 6,
   "metadata": {},
   "outputs": [],
   "source": [
    "x = np.array([1, 3, 5])\n",
    "y = np.ones(4)\n",
    "\n",
    "A = np.array([\n",
    "    [1,2,3],\n",
    "    [4,5,6],\n",
    "    [7,8,9]\n",
    "])\n",
    "\n",
    "B = np.zeros((3,4))\n",
    "C = np.ones((3,4), dtype=np.int64)\n",
    "D = np.identity(4)\n",
    "E = np.ones((2,4,3)) #\n",
    "F = np.random.randint(0,10, (3,3), dtype=np.int)"
   ]
  },
  {
   "cell_type": "code",
   "execution_count": 7,
   "metadata": {
    "collapsed": true,
    "jupyter": {
     "outputs_hidden": true
    }
   },
   "outputs": [
    {
     "name": "stdout",
     "output_type": "stream",
     "text": [
      "B:\n",
      " [[0. 0. 0. 0.]\n",
      " [0. 0. 0. 0.]\n",
      " [0. 0. 0. 0.]]\n"
     ]
    }
   ],
   "source": [
    "# print('A:\\n', A)\n",
    "print('B:\\n', B)\n",
    "# print('C:\\n', C)\n",
    "# print('D:\\n', D)\n",
    "# print('E:\\n', E)"
   ]
  },
  {
   "cell_type": "markdown",
   "metadata": {},
   "source": [
    "## 3. 三个重要属性"
   ]
  },
  {
   "cell_type": "code",
   "execution_count": 8,
   "metadata": {},
   "outputs": [
    {
     "name": "stdout",
     "output_type": "stream",
     "text": [
      "A.dtype = int32\n",
      "A.ndim = (3, 3)\n",
      "A.ndim = 2\n",
      "[[1 2 3 4 5 6 7 8 9]]\n"
     ]
    }
   ],
   "source": [
    "print('A.dtype =', A.dtype)\n",
    "print('A.ndim =', A.shape)\n",
    "print('A.ndim =', A.ndim)\n",
    "\n",
    "A1 = A.reshape((1,9))\n",
    "print(A1) # 有几个方括号，就有几个维度\n",
    "\n",
    "A1 = A1.astype(np.float32)"
   ]
  },
  {
   "cell_type": "markdown",
   "metadata": {},
   "source": [
    "## 4. 基本操作"
   ]
  },
  {
   "cell_type": "code",
   "execution_count": 9,
   "metadata": {
    "collapsed": true,
    "jupyter": {
     "outputs_hidden": true
    }
   },
   "outputs": [
    {
     "name": "stdout",
     "output_type": "stream",
     "text": [
      "[[1 2 3]\n",
      " [4 5 6]\n",
      " [7 8 9]]\n",
      "[[ 3  4  5]\n",
      " [ 6  7  8]\n",
      " [ 9 10 11]]\n",
      "[[0.5 1.  1.5]\n",
      " [2.  2.5 3. ]\n",
      " [3.5 4.  4.5]]\n"
     ]
    }
   ],
   "source": [
    "# 加减乘除\n",
    "B = A + 2 \n",
    "C = A / 2  \n",
    "\n",
    "print(A)\n",
    "print(B)\n",
    "print(C)"
   ]
  },
  {
   "cell_type": "code",
   "execution_count": 10,
   "metadata": {
    "collapsed": true,
    "jupyter": {
     "outputs_hidden": true
    }
   },
   "outputs": [
    {
     "name": "stdout",
     "output_type": "stream",
     "text": [
      "[[1.         1.41421356 1.73205081]\n",
      " [2.         2.23606798 2.44948974]\n",
      " [2.64575131 2.82842712 3.        ]]\n",
      "[[1.         1.41421356 1.73205081]\n",
      " [2.         2.23606798 2.44948974]\n",
      " [2.64575131 2.82842712 3.        ]]\n",
      "[[0.         0.69314718 1.09861229]\n",
      " [1.38629436 1.60943791 1.79175947]\n",
      " [1.94591015 2.07944154 2.19722458]]\n"
     ]
    }
   ],
   "source": [
    "# 平方、开根、对数\n",
    "B = np.power(A, 0.5)\n",
    "C = np.sqrt(A)\n",
    "D = np.log(A)\n",
    "\n",
    "print(B)\n",
    "print(C)\n",
    "print(D)"
   ]
  },
  {
   "cell_type": "code",
   "execution_count": 11,
   "metadata": {},
   "outputs": [],
   "source": [
    "# 最大值、最小值、平均值\n",
    "ma1 = A.max() \n",
    "ma2 = np.max(A)\n",
    "\n",
    "mi1 = A.min(axis=0)\n",
    "mi2 = np.min(A, axis=0)\n",
    "\n",
    "me1 = A.mean(axis=1)\n",
    "me2 = np.mean(A, axis=1)"
   ]
  },
  {
   "cell_type": "code",
   "execution_count": 12,
   "metadata": {
    "collapsed": true,
    "jupyter": {
     "outputs_hidden": true
    }
   },
   "outputs": [
    {
     "name": "stdout",
     "output_type": "stream",
     "text": [
      "[[1 2 3]\n",
      " [4 5 6]\n",
      " [7 8 9]]\n",
      "[[1 4 7]\n",
      " [2 5 8]\n",
      " [3 6 9]]\n",
      "[[1 4 7]\n",
      " [2 5 8]\n",
      " [3 6 9]]\n",
      "<function transpose at 0x000002A1CBDBDEE0>\n"
     ]
    }
   ],
   "source": [
    "# 转置\n",
    "print(A)\n",
    "print(A.T)\n",
    "print(A.transpose())\n",
    "print(np.transpose)"
   ]
  },
  {
   "cell_type": "markdown",
   "metadata": {},
   "source": [
    "## 5. 矩阵运算"
   ]
  },
  {
   "cell_type": "code",
   "execution_count": 13,
   "metadata": {},
   "outputs": [
    {
     "name": "stdout",
     "output_type": "stream",
     "text": [
      "[[ 1  2  6]\n",
      " [ 4  5 12]\n",
      " [ 7  8 18]]\n",
      "[ 9 21 33]\n",
      "[ 9 21 33]\n"
     ]
    }
   ],
   "source": [
    "x = np.array([1, 1, 2])\n",
    "\n",
    "z1 = A * x\n",
    "z2 = A @ x\n",
    "z3 = A.dot(x)\n",
    "\n",
    "print(z1)\n",
    "print(z2)\n",
    "print(z3)"
   ]
  },
  {
   "cell_type": "code",
   "execution_count": 14,
   "metadata": {},
   "outputs": [
    {
     "name": "stdout",
     "output_type": "stream",
     "text": [
      "[[1 2 3]\n",
      " [4 5 6]\n",
      " [7 8 9]]\n",
      "[[ 6  6  6]\n",
      " [15 15 15]\n",
      " [24 24 24]]\n",
      "[[ 6  6  6]\n",
      " [15 15 15]\n",
      " [24 24 24]]\n"
     ]
    }
   ],
   "source": [
    "B = np.ones((3,3), dtype=np.int)\n",
    "\n",
    "Z1 = A * B # 逐元素相乘\n",
    "Z2 = A @ B # 矩阵乘法\n",
    "Z3 = A.dot(B)\n",
    "\n",
    "print(Z1)\n",
    "print(Z2)\n",
    "print(Z3)"
   ]
  },
  {
   "cell_type": "code",
   "execution_count": 15,
   "metadata": {},
   "outputs": [],
   "source": [
    "## 补充：矩阵乘法计算技巧"
   ]
  },
  {
   "cell_type": "markdown",
   "metadata": {},
   "source": [
    "## 6. 元素获取"
   ]
  },
  {
   "cell_type": "code",
   "execution_count": 16,
   "metadata": {},
   "outputs": [
    {
     "name": "stdout",
     "output_type": "stream",
     "text": [
      "[2 4 6 8]\n",
      "2 [4 6 8]\n"
     ]
    }
   ],
   "source": [
    "u = np.arange(2, 10, 2)\n",
    "print(u)\n",
    "print(u[0], u[1:4])"
   ]
  },
  {
   "cell_type": "code",
   "execution_count": 17,
   "metadata": {},
   "outputs": [
    {
     "name": "stdout",
     "output_type": "stream",
     "text": [
      "[[1 2 3]\n",
      " [4 5 6]\n",
      " [7 8 9]]\n",
      "[1 2 3]\n",
      "[1 2 3]\n"
     ]
    }
   ],
   "source": [
    "# 获取行\n",
    "print(A)\n",
    "print(A[0])\n",
    "print(A[0, :])"
   ]
  },
  {
   "cell_type": "code",
   "execution_count": 18,
   "metadata": {},
   "outputs": [
    {
     "name": "stdout",
     "output_type": "stream",
     "text": [
      "[1 4 7]\n"
     ]
    }
   ],
   "source": [
    "# 获取列\n",
    "print(A[:, 0])"
   ]
  },
  {
   "cell_type": "code",
   "execution_count": 19,
   "metadata": {},
   "outputs": [
    {
     "data": {
      "text/plain": [
       "array([[5, 8, 6, 8, 4],\n",
       "       [9, 7, 5, 7, 9],\n",
       "       [6, 9, 9, 1, 4],\n",
       "       [5, 4, 8, 1, 7],\n",
       "       [5, 4, 4, 1, 5]])"
      ]
     },
     "execution_count": 19,
     "metadata": {},
     "output_type": "execute_result"
    }
   ],
   "source": [
    "E = np.random.randint(0, 10, (5,5), dtype=np.int)\n",
    "E"
   ]
  },
  {
   "cell_type": "code",
   "execution_count": 20,
   "metadata": {},
   "outputs": [
    {
     "name": "stdout",
     "output_type": "stream",
     "text": [
      "[[5 8 6]\n",
      " [9 7 5]\n",
      " [6 9 9]]\n"
     ]
    }
   ],
   "source": [
    "# 获取子矩阵\n",
    "E1 = E[0:3, 0:3].copy()\n",
    "print(E1)"
   ]
  },
  {
   "cell_type": "code",
   "execution_count": 21,
   "metadata": {},
   "outputs": [
    {
     "name": "stdout",
     "output_type": "stream",
     "text": [
      "5 5\n"
     ]
    }
   ],
   "source": [
    "# 获取元素\n",
    "e1 = E[0][0]\n",
    "e2 = E[0, 0] #推荐\n",
    "print(e1, e2)"
   ]
  },
  {
   "cell_type": "code",
   "execution_count": 22,
   "metadata": {},
   "outputs": [
    {
     "name": "stdout",
     "output_type": "stream",
     "text": [
      "[[0 8 6]\n",
      " [9 7 5]\n",
      " [6 9 9]]\n"
     ]
    }
   ],
   "source": [
    "# 元素赋值\n",
    "E1[0,0] = 0\n",
    "print(E1)"
   ]
  },
  {
   "cell_type": "code",
   "execution_count": 23,
   "metadata": {},
   "outputs": [
    {
     "name": "stdout",
     "output_type": "stream",
     "text": [
      "[[1 1 1]\n",
      " [9 7 5]\n",
      " [6 9 9]]\n"
     ]
    }
   ],
   "source": [
    "E1[0,:] = np.array([1,1,1])\n",
    "print(E1)"
   ]
  },
  {
   "cell_type": "code",
   "execution_count": 24,
   "metadata": {},
   "outputs": [
    {
     "data": {
      "text/plain": [
       "array([[False, False, False],\n",
       "       [ True,  True,  True],\n",
       "       [ True,  True,  True]])"
      ]
     },
     "execution_count": 24,
     "metadata": {},
     "output_type": "execute_result"
    }
   ],
   "source": [
    "E1 > 2"
   ]
  },
  {
   "cell_type": "code",
   "execution_count": 27,
   "metadata": {},
   "outputs": [
    {
     "data": {
      "text/plain": [
       "array([5, 8, 6, 9, 7, 5, 6, 9, 9])"
      ]
     },
     "execution_count": 27,
     "metadata": {},
     "output_type": "execute_result"
    }
   ],
   "source": [
    "E1.flatten()"
   ]
  },
  {
   "cell_type": "markdown",
   "metadata": {},
   "source": [
    "## 7. 绘图函数"
   ]
  },
  {
   "cell_type": "code",
   "execution_count": 28,
   "metadata": {},
   "outputs": [],
   "source": [
    "import matplotlib.pyplot as plt"
   ]
  },
  {
   "cell_type": "code",
   "execution_count": 29,
   "metadata": {},
   "outputs": [
    {
     "name": "stdout",
     "output_type": "stream",
     "text": [
      "[8 5 8 2 1 0 3 8 1 1 5 2 0 6 8 9 4 7 3 3 2 6 3 8 2 8 9 7 0 7 1 2 4 9 2 1 3\n",
      " 2 5 5 4 9 4 4 6 6 1 9 0 1 1 9 5 5 0 8 0 4 5 5 1 7 3 1 4 4 9 7 6 9 9 1 5 6\n",
      " 4 5 7 5 7 1 2 7 0 6 2 6 0 9 1 7 7 6 2 4 5 0 7 2 7 2]\n"
     ]
    }
   ],
   "source": [
    "a = np.random.randint(0, 10, 100)\n",
    "print(a)"
   ]
  },
  {
   "cell_type": "code",
   "execution_count": 30,
   "metadata": {},
   "outputs": [
    {
     "data": {
      "image/png": "[encoded data removed]",
      "text/plain": [
       "<Figure size 432x288 with 1 Axes>"
      ]
     },
     "metadata": {
      "needs_background": "light"
     },
     "output_type": "display_data"
    }
   ],
   "source": [
    "plt.hist(a, bins=10)\n",
    "plt.show()"
   ]
  },
  {
   "cell_type": "code",
   "execution_count": 31,
   "metadata": {},
   "outputs": [
    {
     "data": {
      "image/png": "[encoded data removed]",
      "text/plain": [
       "<Figure size 432x288 with 1 Axes>"
      ]
     },
     "metadata": {
      "needs_background": "light"
     },
     "output_type": "display_data"
    }
   ],
   "source": [
    "bins = np.arange(-0.5, 10, 1)\n",
    "plt.hist(a, bins=bins, rwidth=0.8, color='green')\n",
    "plt.xticks(range(0,10))\n",
    "plt.show()"
   ]
  },
  {
   "cell_type": "code",
   "execution_count": 32,
   "metadata": {},
   "outputs": [
    {
     "name": "stdout",
     "output_type": "stream",
     "text": [
      "[[5 0 9 6 2 3 2 0 4 2]\n",
      " [4 0 9 2 2 4 5 2 8 6]\n",
      " [3 3 7 1 7 6 9 7 8 8]\n",
      " [1 5 1 3 7 1 1 0 0 3]\n",
      " [3 5 9 8 8 5 7 6 0 6]\n",
      " [6 7 8 7 1 9 8 8 8 9]\n",
      " [0 6 0 1 0 9 9 0 5 4]\n",
      " [6 5 1 7 4 9 3 8 3 3]\n",
      " [1 2 6 2 8 4 2 0 6 3]\n",
      " [3 7 3 3 3 0 1 1 1 0]]\n"
     ]
    }
   ],
   "source": [
    "A1 = np.random.randint(0, 10, (10,10))\n",
    "print(A1)"
   ]
  },
  {
   "cell_type": "code",
   "execution_count": 33,
   "metadata": {},
   "outputs": [
    {
     "data": {
      "image/png": "[encoded data removed]",
      "text/plain": [
       "<Figure size 432x288 with 1 Axes>"
      ]
     },
     "metadata": {
      "needs_background": "light"
     },
     "output_type": "display_data"
    }
   ],
   "source": [
    "bins = np.arange(-0.5, 10, 1)\n",
    "plt.hist(A1.flatten(), bins=bins, rwidth=0.8, color='green')\n",
    "plt.xticks(range(0,10))\n",
    "plt.show()"
   ]
  },
  {
   "cell_type": "markdown",
   "metadata": {},
   "source": [
    "## 8. 读取显示图像"
   ]
  },
  {
   "cell_type": "code",
   "execution_count": 34,
   "metadata": {},
   "outputs": [],
   "source": [
    "import cv2 as cv\n",
    "import numpy as np\n",
    "import matplotlib.pyplot as plt"
   ]
  },
  {
   "cell_type": "code",
   "execution_count": 39,
   "metadata": {},
   "outputs": [
    {
     "data": {
      "image/png": "[encoded data removed]",
      "text/plain": [
       "<Figure size 432x288 with 1 Axes>"
      ]
     },
     "metadata": {
      "needs_background": "light"
     },
     "output_type": "display_data"
    }
   ],
   "source": [
    "img1 = cv.imread('./pic/cat500x480.jpg')\n",
    "# img1 = cv.cvtColor(img1, cv.COLOR_BGR2RGB)\n",
    "plt.imshow(img1)\n",
    "plt.show()"
   ]
  },
  {
   "cell_type": "code",
   "execution_count": 42,
   "metadata": {},
   "outputs": [],
   "source": [
    "cv.imshow(\"roi\", img1)\n",
    "cv.waitKey(0)\n",
    "cv.destroyAllWindows()"
   ]
  },
  {
   "cell_type": "code",
   "execution_count": null,
   "metadata": {},
   "outputs": [],
   "source": [
    "img2 = cv.imread('./pic/cat500x480.jpg', 0)\n",
    "plt.imshow(img2, cmap='gray')\n",
    "plt.show()"
   ]
  },
  {
   "cell_type": "code",
   "execution_count": null,
   "metadata": {},
   "outputs": [],
   "source": [
    "print(img1.ndim, img2.ndim)"
   ]
  },
  {
   "cell_type": "code",
   "execution_count": null,
   "metadata": {},
   "outputs": [],
   "source": [
    "def show(img):\n",
    "    if img.ndim == 2:\n",
    "        plt.imshow(img, cmap='gray')\n",
    "    else:\n",
    "        plt.imshow(img)\n",
    "    plt.plot()"
   ]
  },
  {
   "cell_type": "code",
   "execution_count": null,
   "metadata": {},
   "outputs": [],
   "source": [
    "img4 = cv.imread('./pic/leopard.JPG', 0)\n",
    "imshow(img4)"
   ]
  },
  {
   "cell_type": "code",
   "execution_count": null,
   "metadata": {},
   "outputs": [],
   "source": [
    "bins = np.arange(-0.5, 256, 1)\n",
    "plt.hist(img4.flatten(), bins=bins, rwidth=0.8, color='green')\n",
    "# plt.xticks(range(0,256))\n",
    "plt.show()"
   ]
  },
  {
   "cell_type": "code",
   "execution_count": null,
   "metadata": {},
   "outputs": [],
   "source": [
    "img5 = cv.equalizeHist(img4)\n",
    "imshow(img5)"
   ]
  },
  {
   "cell_type": "code",
   "execution_count": null,
   "metadata": {
    "scrolled": true
   },
   "outputs": [],
   "source": [
    "bins = np.arange(-0.5, 256, 1)\n",
    "plt.hist(img5.flatten(), bins=bins, rwidth=0.8, color='green')\n",
    "# plt.xticks(range(0,256))\n",
    "plt.show()"
   ]
  }
 ],
 "metadata": {
  "kernelspec": {
   "display_name": "Python 3",
   "language": "python",
   "name": "python3"
  },
  "language_info": {
   "codemirror_mode": {
    "name": "ipython",
    "version": 3
   },
   "file_extension": ".py",
   "mimetype": "text/x-python",
   "name": "python",
   "nbconvert_exporter": "python",
   "pygments_lexer": "ipython3",
   "version": "3.8.5"
  }
 },
 "nbformat": 4,
 "nbformat_minor": 4
}
